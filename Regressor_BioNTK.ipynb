{
 "cells": [
  {
   "cell_type": "code",
   "execution_count": 1,
   "metadata": {},
   "outputs": [
    {
     "name": "stdout",
     "output_type": "stream",
     "text": [
      "Index(['A', 'C', 'M', 'TN', 'IV', 'SolidContent', 'Crosslinker', 'Pressure',\n",
      "       'PrintSpeed', 'n', 'Viscosity', 'LossTangent', 'NozzleSize',\n",
      "       'ChangeFilamentWidth', 'DiffusionRate', 'CollapseFactor',\n",
      "       'Printability', 'SwellingRate', 'CellViability', 'IncubationDay'],\n",
      "      dtype='object')\n",
      "<class 'pandas.core.indexes.base.Index'>\n",
      "<class 'list'>\n"
     ]
    }
   ],
   "source": [
    "import pandas as pd\n",
    "\n",
    "data_file_path = 'D:/location/dataset_biontek.xlsx'\n",
    "\n",
    "bio_data = pd.read_excel(data_file_path)\n",
    "\n",
    "#Material drop Material column\n",
    "data = bio_data.drop(['Material', 'CellDensity', 'Literature', 'CelllineUsed'], axis = 1)\n",
    "data.head(5)\n",
    "\n",
    "print(data.columns)\n",
    "columns = data.columns\n",
    "\n",
    "print(type(columns))\n",
    "\n",
    "columns = columns.tolist()\n",
    "print(type(columns))\n",
    "\n",
    "data.dropna(inplace=True)\n",
    "\n",
    "#Data Plotting Before Scaling\n",
    "import matplotlib.pyplot as plt\n",
    "data.plot(kind = 'bar')\n",
    "\n",
    "\n",
    "from sklearn import preprocessing\n",
    "x = data.values #returns a numpy array\n",
    "min_max_scaler = preprocessing.MinMaxScaler()\n",
    "x_scaled = min_max_scaler.fit_transform(x)\n",
    "data = pd.DataFrame(x_scaled, columns = columns)\n",
    "\n",
    "#Data Plotting After Scaling\n",
    "data.plot(kind = 'bar')\n",
    "\n",
    "Y = data['Printability']\n",
    "Z = data['CellViability']\n",
    "\n",
    "from sklearn.model_selection import train_test_split\n",
    "import warnings\n",
    "warnings.filterwarnings(\"ignore\", category=DeprecationWarning)\n",
    "\n",
    "import time\n",
    "import numpy as np\n",
    "from sklearn.linear_model import Ridge\n",
    "from sklearn.linear_model import Lasso\n",
    "from sklearn.linear_model import ElasticNet\n",
    "from sklearn.linear_model import LinearRegression\n",
    "from sklearn.linear_model import LinearRegression\n",
    "from sklearn.ensemble import RandomForestRegressor\n",
    "from sklearn.metrics import mean_absolute_error\n",
    "from sklearn.metrics import mean_squared_error\n",
    "from sklearn.metrics import r2_score\n",
    "from sklearn.neighbors import KNeighborsRegressor\n",
    "from sklearn.svm import SVR\n",
    "from sklearn.pipeline import make_pipeline\n",
    "from sklearn.preprocessing import StandardScaler\n",
    "import pandas as pd\n",
    "import numpy as np\n",
    "import matplotlib.pyplot as plt\n",
    "import seaborn as sns\n",
    "%matplotlib inline\n",
    "\n",
    "\n",
    "data.to_csv('D:/partahabhai/bntk.csv', index=False)\n",
    "\n",
    "\n",
    "Score=0.0\n",
    "Coef=0.0 \n",
    "Intercept=0.0\n",
    "all_results = []\n",
    "\n",
    "X_train, X_test, y_train, y_test = train_test_split(data, Y, test_size=0.30, random_state = 150)\n",
    "\n",
    "\n",
    "#Number of independent Variable\n",
    "k=len(columns)\n",
    "\n",
    "#Number of observations\n",
    "n=len(X_test)"
   ]
  },
  {
   "cell_type": "code",
   "execution_count": 2,
   "metadata": {},
   "outputs": [],
   "source": [
    "#k- Number of independent Variable\n",
    "#n- Number of samples\n",
    "def LRegression(Regressor, k, n):\n",
    "    \n",
    "    regression = {}\n",
    "    \n",
    "    if (Regressor == 'LinearRegression'):\n",
    "        \n",
    "        reg = LinearRegression().fit(X_train, y_train)        \n",
    "        prediction = reg.predict(X_test)            \n",
    "        Score = reg.score(X_train, y_train)\n",
    "        Coef  = reg.coef_\n",
    "        Intercept = reg.intercept_\n",
    "        \n",
    "        #Mean Absolute Error(MAE)\n",
    "        LMAE = mean_absolute_error(y_test,prediction)\n",
    "    \n",
    "        #Mean Squared Error(MSE)\n",
    "        LMSE = mean_squared_error(y_test,prediction)\n",
    "    \n",
    "        #Root Mean Squared Error(RMSE)\n",
    "        LRMSE = np.sqrt(mean_squared_error(y_test,prediction))\n",
    "    \n",
    "        #Root Mean Squared Log Error(RMSLE)\n",
    "        LLGRMSE = np.log(np.sqrt(mean_squared_error(y_test,prediction)))\n",
    "    \n",
    "        #R Squared (R2)\n",
    "        LRSQRD = r2_score(y_test,prediction)\n",
    "        n=len(X_test)\n",
    "        #Number of independent Variable\n",
    "        k=len(columns)\n",
    "    \n",
    "        #Adjusted R Squared\n",
    "        LARSQRD = 1 - ((1-LRSQRD)*(n-1)/(n-k-1))\n",
    "        \n",
    "        \n",
    "        regression['Regressor']=Regressor\n",
    "        regression['Mean_Absolute_Error']=LMAE\n",
    "        regression['Mean_Squared_Error']=LMSE\n",
    "        regression['Root_Mean_Squared_Error']= LRMSE\n",
    "        regression['Root_Mean_Squared_Log_Error']=LLGRMSE\n",
    "        regression['R_Squared']= LRSQRD\n",
    "        regression['Adjusted_R_Squared']= LARSQRD\n",
    "        regression['Prediction']= prediction\n",
    "        \n",
    "        \n",
    "        return regression\n",
    "        \n",
    "        \n",
    "def RandomFRegression(Regressor,k,n):\n",
    "    \n",
    "    regression = {}\n",
    "    \n",
    "    if (Regressor == 'RandomForestRegressor'):\n",
    "        \n",
    "        reg = RandomForestRegressor(max_depth=10, n_estimators = 50, random_state=22)\n",
    "        reg.fit(X_train, y_train)\n",
    "        prediction = reg.predict(X_test)    \n",
    "        \n",
    "        \n",
    "        #Mean Absolute Error(MAE)\n",
    "        LMAE = mean_absolute_error(y_test,prediction)\n",
    "    \n",
    "        #Mean Squared Error(MSE)\n",
    "        LMSE = mean_squared_error(y_test,prediction)\n",
    "    \n",
    "        #Root Mean Squared Error(RMSE)\n",
    "        LRMSE = np.sqrt(mean_squared_error(y_test,prediction))\n",
    "    \n",
    "        #Root Mean Squared Log Error(RMSLE)\n",
    "        LLGRMSE = np.log(np.sqrt(mean_squared_error(y_test,prediction)))\n",
    "    \n",
    "        #R Squared (R2)\n",
    "        LRSQRD = r2_score(y_test,prediction)\n",
    "        n=len(X_test)\n",
    "        #Number of independent Variable\n",
    "        k=len(columns)\n",
    "    \n",
    "        #Adjusted R Squared\n",
    "        LARSQRD = 1 - ((1-LRSQRD)*(n-1)/(n-k-1))\n",
    "        \n",
    "        regression['Regressor']=Regressor\n",
    "        regression['Mean_Absolute_Error']=LMAE\n",
    "        regression['Mean_Squared_Error']=LMSE\n",
    "        regression['Root_Mean_Squared_Error']= LRMSE\n",
    "        regression['Root_Mean_Squared_Log_Error']=LLGRMSE\n",
    "        regression['R_Squared']= LRSQRD\n",
    "        regression['Adjusted_R_Squared']= LARSQRD\n",
    "        regression['Prediction']= prediction\n",
    "        \n",
    "        \n",
    "        return regression \n",
    "\n",
    "def KNRegressor(Regressor,k,n):\n",
    "    \n",
    "    regression = {}\n",
    "    \n",
    "    if (Regressor == 'KNeighborsRegressor'):\n",
    "        \n",
    "        reg = KNeighborsRegressor(n_neighbors=3)\n",
    "        reg.fit(X_train, y_train)\n",
    "        prediction = reg.predict(X_test)    \n",
    "        \n",
    "        \n",
    "        #Mean Absolute Error(MAE)\n",
    "        LMAE = mean_absolute_error(y_test,prediction)\n",
    "    \n",
    "        #Mean Squared Error(MSE)\n",
    "        LMSE = mean_squared_error(y_test,prediction)\n",
    "    \n",
    "        #Root Mean Squared Error(RMSE)\n",
    "        LRMSE = np.sqrt(mean_squared_error(y_test,prediction))\n",
    "    \n",
    "        #Root Mean Squared Log Error(RMSLE)\n",
    "        LLGRMSE = np.log(np.sqrt(mean_squared_error(y_test,prediction)))\n",
    "    \n",
    "        #R Squared (R2)\n",
    "        LRSQRD = r2_score(y_test,prediction)\n",
    "        n=len(X_test)\n",
    "        #Number of independent Variable\n",
    "        k=len(columns)\n",
    "    \n",
    "        #Adjusted R Squared\n",
    "        LARSQRD = 1 - ((1-LRSQRD)*(n-1)/(n-k-1))\n",
    "        \n",
    "        regression['Regressor']=Regressor\n",
    "        regression['Mean_Absolute_Error']=LMAE\n",
    "        regression['Mean_Squared_Error']=LMSE\n",
    "        regression['Root_Mean_Squared_Error']= LRMSE\n",
    "        regression['Root_Mean_Squared_Log_Error']=LLGRMSE\n",
    "        regression['R_Squared']= LRSQRD\n",
    "        regression['Adjusted_R_Squared']= LARSQRD\n",
    "        regression['Prediction']= prediction\n",
    "        \n",
    "        return regression\n",
    "                \n",
    "\n",
    "def SRegressor(Regressor, k, n):\n",
    "    \n",
    "    regression = {}\n",
    "    \n",
    "    if (Regressor == 'SVMRegressor'):\n",
    "\n",
    "        regr = make_pipeline(StandardScaler(), SVR(C=1.0, epsilon=0.2))\n",
    "        regr.fit(X_train, y_train)\n",
    "        prediction = regr.predict(X_test)\n",
    "        \n",
    "        \n",
    "        #Mean Absolute Error(MAE)\n",
    "        LMAE = mean_absolute_error(y_test,prediction)\n",
    "    \n",
    "        #Mean Squared Error(MSE)\n",
    "        LMSE = mean_squared_error(y_test,prediction)\n",
    "    \n",
    "        #Root Mean Squared Error(RMSE)\n",
    "        LRMSE = np.sqrt(mean_squared_error(y_test,prediction))\n",
    "    \n",
    "        #Root Mean Squared Log Error(RMSLE)\n",
    "        LLGRMSE = np.log(np.sqrt(mean_squared_error(y_test,prediction)))\n",
    "    \n",
    "        #R Squared (R2)\n",
    "        LRSQRD = r2_score(y_test,prediction)\n",
    "        n=len(X_test)\n",
    "        #Number of independent Variable\n",
    "        k=len(columns)\n",
    "    \n",
    "        #Adjusted R Squared\n",
    "        LARSQRD = 1 - ((1-LRSQRD)*(n-1)/(n-k-1))\n",
    "        \n",
    "        regression['Regressor']=Regressor\n",
    "        regression['Mean_Absolute_Error']=LMAE\n",
    "        regression['Mean_Squared_Error']=LMSE\n",
    "        regression['Root_Mean_Squared_Error']= LRMSE\n",
    "        regression['Root_Mean_Squared_Log_Error']=LLGRMSE\n",
    "        regression['R_Squared']= LRSQRD\n",
    "        regression['Adjusted_R_Squared']= LARSQRD\n",
    "        regression['Prediction']= prediction\n",
    "        \n",
    "        \n",
    "        return regression"
   ]
  },
  {
   "cell_type": "code",
   "execution_count": 3,
   "metadata": {},
   "outputs": [],
   "source": [
    "def Ridge_Regression(Regressor,k,n):\n",
    "    \n",
    "    regression = {}\n",
    "    \n",
    "    if (Regressor == 'Ridge_Regression'):\n",
    "        \n",
    "        reg = Ridge(alpha=0.05, normalize=True)        \n",
    "        reg.fit(X_train, y_train)\n",
    "        prediction = reg.predict(X_test)    \n",
    "        \n",
    "        \n",
    "        #Mean Absolute Error(MAE)\n",
    "        LMAE = mean_absolute_error(y_test,prediction)\n",
    "    \n",
    "        #Mean Squared Error(MSE)\n",
    "        LMSE = mean_squared_error(y_test,prediction)\n",
    "    \n",
    "        #Root Mean Squared Error(RMSE)\n",
    "        LRMSE = np.sqrt(mean_squared_error(y_test,prediction))\n",
    "    \n",
    "        #Root Mean Squared Log Error(RMSLE)\n",
    "        LLGRMSE = np.log(np.sqrt(mean_squared_error(y_test,prediction)))\n",
    "    \n",
    "        #R Squared (R2)\n",
    "        LRSQRD = r2_score(y_test,prediction)\n",
    "        n=len(X_test)\n",
    "        #Number of independent Variable\n",
    "        k=len(columns)\n",
    "    \n",
    "        #Adjusted R Squared\n",
    "        LARSQRD = 1 - ((1-LRSQRD)*(n-1)/(n-k-1))\n",
    "        \n",
    "        regression['Regressor']=Regressor\n",
    "        regression['Mean_Absolute_Error']=LMAE\n",
    "        regression['Mean_Squared_Error']=LMSE\n",
    "        regression['Root_Mean_Squared_Error']= LRMSE\n",
    "        regression['Root_Mean_Squared_Log_Error']=LLGRMSE\n",
    "        regression['R_Squared']= LRSQRD\n",
    "        regression['Adjusted_R_Squared']= LARSQRD\n",
    "        regression['Prediction']= prediction\n",
    "        \n",
    "        return regression"
   ]
  },
  {
   "cell_type": "code",
   "execution_count": 4,
   "metadata": {},
   "outputs": [],
   "source": [
    "def Lasso_Regression(Regressor,k,n):\n",
    "    \n",
    "    regression = {}\n",
    "    \n",
    "    if (Regressor == 'Lasso_Regression'):\n",
    "        \n",
    "        reg = Lasso(alpha=0.3, normalize=True)        \n",
    "        reg.fit(X_train, y_train)\n",
    "        prediction = reg.predict(X_test)    \n",
    "        \n",
    "        \n",
    "        #Mean Absolute Error(MAE)\n",
    "        LMAE = mean_absolute_error(y_test,prediction)\n",
    "    \n",
    "        #Mean Squared Error(MSE)\n",
    "        LMSE = mean_squared_error(y_test,prediction)\n",
    "    \n",
    "        #Root Mean Squared Error(RMSE)\n",
    "        LRMSE = np.sqrt(mean_squared_error(y_test,prediction))\n",
    "    \n",
    "        #Root Mean Squared Log Error(RMSLE)\n",
    "        LLGRMSE = np.log(np.sqrt(mean_squared_error(y_test,prediction)))\n",
    "    \n",
    "        #R Squared (R2)\n",
    "        LRSQRD = r2_score(y_test,prediction)\n",
    "        n=len(X_test)\n",
    "        #Number of independent Variable\n",
    "        k=len(columns)\n",
    "    \n",
    "        #Adjusted R Squared\n",
    "        LARSQRD = 1 - ((1-LRSQRD)*(n-1)/(n-k-1))\n",
    "        \n",
    "        regression['Regressor']=Regressor\n",
    "        regression['Mean_Absolute_Error']=LMAE\n",
    "        regression['Mean_Squared_Error']=LMSE\n",
    "        regression['Root_Mean_Squared_Error']= LRMSE\n",
    "        regression['Root_Mean_Squared_Log_Error']=LLGRMSE\n",
    "        regression['R_Squared']= LRSQRD\n",
    "        regression['Adjusted_R_Squared']= LARSQRD\n",
    "        regression['Prediction']= prediction\n",
    "        \n",
    "        return regression\n",
    "                \n"
   ]
  },
  {
   "cell_type": "code",
   "execution_count": 5,
   "metadata": {},
   "outputs": [],
   "source": [
    "def ElasticNet_Regression(Regressor,k,n):\n",
    "    \n",
    "    regression = {}\n",
    "    \n",
    "    if (Regressor == 'ElasticNet_Regression'):\n",
    "        \n",
    "        reg = ElasticNet(alpha=1, l1_ratio=0.5, normalize=False)        \n",
    "        reg.fit(X_train, y_train)\n",
    "        prediction = reg.predict(X_test)    \n",
    "        \n",
    "        \n",
    "        #Mean Absolute Error(MAE)\n",
    "        LMAE = mean_absolute_error(y_test,prediction)\n",
    "    \n",
    "        #Mean Squared Error(MSE)\n",
    "        LMSE = mean_squared_error(y_test,prediction)\n",
    "    \n",
    "        #Root Mean Squared Error(RMSE)\n",
    "        LRMSE = np.sqrt(mean_squared_error(y_test,prediction))\n",
    "    \n",
    "        #Root Mean Squared Log Error(RMSLE)\n",
    "        LLGRMSE = np.log(np.sqrt(mean_squared_error(y_test,prediction)))\n",
    "    \n",
    "        #R Squared (R2)\n",
    "        LRSQRD = r2_score(y_test,prediction)\n",
    "        n=len(X_test)\n",
    "        #Number of independent Variable\n",
    "        k=len(columns)\n",
    "    \n",
    "        #Adjusted R Squared\n",
    "        LARSQRD = 1 - ((1-LRSQRD)*(n-1)/(n-k-1))\n",
    "        \n",
    "        regression['Regressor']=Regressor\n",
    "        regression['Mean_Absolute_Error']=LMAE\n",
    "        regression['Mean_Squared_Error']=LMSE\n",
    "        regression['Root_Mean_Squared_Error']= LRMSE\n",
    "        regression['Root_Mean_Squared_Log_Error']=LLGRMSE\n",
    "        regression['R_Squared']= LRSQRD\n",
    "        regression['Adjusted_R_Squared']= LARSQRD\n",
    "        regression['Prediction']= prediction\n",
    "        \n",
    "        return regression\n",
    "                \n"
   ]
  },
  {
   "cell_type": "code",
   "execution_count": 6,
   "metadata": {},
   "outputs": [],
   "source": [
    "import pandas as pd\n",
    "from collections import OrderedDict\n",
    "from datetime import date"
   ]
  },
  {
   "cell_type": "code",
   "execution_count": 7,
   "metadata": {},
   "outputs": [
    {
     "data": {
      "text/plain": [
       "Text(0.5, 1.0, 'LinearRegression-Printability')"
      ]
     },
     "execution_count": 7,
     "metadata": {},
     "output_type": "execute_result"
    },
    {
     "data": {
      "image/png": "[encoded data removed]",
      "text/plain": [
       "<Figure size 432x288 with 1 Axes>"
      ]
     },
     "metadata": {
      "needs_background": "light"
     },
     "output_type": "display_data"
    }
   ],
   "source": [
    "result = LRegression('LinearRegression',k,n)\n",
    "all_results.append(result)\n",
    "plt.scatter(y_test,result['Prediction'])\n",
    "plt.xlabel('Y Test')\n",
    "plt.ylabel('Predicted Y')\n",
    "plt.title('LinearRegression-Printability')"
   ]
  },
  {
   "cell_type": "code",
   "execution_count": 8,
   "metadata": {},
   "outputs": [
    {
     "data": {
      "text/plain": [
       "Text(0.5, 1.0, 'RandomForestRegressor-Printability')"
      ]
     },
     "execution_count": 8,
     "metadata": {},
     "output_type": "execute_result"
    },
    {
     "data": {
      "image/png": "[encoded data removed]",
      "text/plain": [
       "<Figure size 432x288 with 1 Axes>"
      ]
     },
     "metadata": {
      "needs_background": "light"
     },
     "output_type": "display_data"
    }
   ],
   "source": [
    "result = RandomFRegression('RandomForestRegressor',k,n)\n",
    "all_results.append(result)\n",
    "plt.scatter(y_test,result['Prediction'])\n",
    "plt.xlabel('Y Test')\n",
    "plt.ylabel('Predicted Y')\n",
    "plt.title('RandomForestRegressor-Printability')"
   ]
  },
  {
   "cell_type": "code",
   "execution_count": 9,
   "metadata": {},
   "outputs": [
    {
     "data": {
      "text/plain": [
       "Text(0.5, 1.0, 'KNeighborsRegressor-Printability')"
      ]
     },
     "execution_count": 9,
     "metadata": {},
     "output_type": "execute_result"
    },
    {
     "data": {
      "image/png": "[encoded data removed]",
      "text/plain": [
       "<Figure size 432x288 with 1 Axes>"
      ]
     },
     "metadata": {
      "needs_background": "light"
     },
     "output_type": "display_data"
    }
   ],
   "source": [
    "result = KNRegressor('KNeighborsRegressor',k,n)\n",
    "all_results.append(result)\n",
    "plt.scatter(y_test,result['Prediction'])\n",
    "plt.xlabel('Y Test')\n",
    "plt.ylabel('Predicted Y')\n",
    "plt.title('KNeighborsRegressor-Printability')"
   ]
  },
  {
   "cell_type": "code",
   "execution_count": 10,
   "metadata": {},
   "outputs": [
    {
     "data": {
      "text/plain": [
       "Text(0.5, 1.0, 'SVMRegressor-Printability')"
      ]
     },
     "execution_count": 10,
     "metadata": {},
     "output_type": "execute_result"
    },
    {
     "data": {
      "image/png": "[encoded data removed]",
      "text/plain": [
       "<Figure size 432x288 with 1 Axes>"
      ]
     },
     "metadata": {
      "needs_background": "light"
     },
     "output_type": "display_data"
    }
   ],
   "source": [
    "result = SRegressor('SVMRegressor',k,n)\n",
    "all_results.append(result)\n",
    "plt.scatter(y_test,result['Prediction'])\n",
    "plt.xlabel('Y Test')\n",
    "plt.ylabel('Predicted Y')\n",
    "plt.title('SVMRegressor-Printability')"
   ]
  },
  {
   "cell_type": "code",
   "execution_count": 11,
   "metadata": {},
   "outputs": [
    {
     "data": {
      "text/plain": [
       "Text(0.5, 1.0, 'Ridge_Regression-Printability')"
      ]
     },
     "execution_count": 11,
     "metadata": {},
     "output_type": "execute_result"
    },
    {
     "data": {
      "image/png": "[encoded data removed]",
      "text/plain": [
       "<Figure size 432x288 with 1 Axes>"
      ]
     },
     "metadata": {
      "needs_background": "light"
     },
     "output_type": "display_data"
    }
   ],
   "source": [
    "result = Ridge_Regression('Ridge_Regression',k,n)\n",
    "all_results.append(result)\n",
    "plt.scatter(y_test,result['Prediction'])\n",
    "plt.xlabel('Y Test')\n",
    "plt.ylabel('Predicted Y')\n",
    "plt.title('Ridge_Regression-Printability')"
   ]
  },
  {
   "cell_type": "code",
   "execution_count": 12,
   "metadata": {},
   "outputs": [
    {
     "data": {
      "text/plain": [
       "Text(0.5, 1.0, 'Lasso_Regression-Printability')"
      ]
     },
     "execution_count": 12,
     "metadata": {},
     "output_type": "execute_result"
    },
    {
     "data": {
      "image/png": "[encoded data removed]",
      "text/plain": [
       "<Figure size 432x288 with 1 Axes>"
      ]
     },
     "metadata": {
      "needs_background": "light"
     },
     "output_type": "display_data"
    }
   ],
   "source": [
    "result = Lasso_Regression('Lasso_Regression',k,n)\n",
    "all_results.append(result)\n",
    "plt.scatter(y_test,result['Prediction'])\n",
    "plt.xlabel('Y Test')\n",
    "plt.ylabel('Predicted Y')\n",
    "plt.title('Lasso_Regression-Printability')"
   ]
  },
  {
   "cell_type": "code",
   "execution_count": 13,
   "metadata": {},
   "outputs": [
    {
     "data": {
      "text/plain": [
       "Text(0.5, 1.0, 'ElasticNet_Regression-Printability')"
      ]
     },
     "execution_count": 13,
     "metadata": {},
     "output_type": "execute_result"
    },
    {
     "data": {
      "image/png": "[encoded data removed]",
      "text/plain": [
       "<Figure size 432x288 with 1 Axes>"
      ]
     },
     "metadata": {
      "needs_background": "light"
     },
     "output_type": "display_data"
    }
   ],
   "source": [
    "result = ElasticNet_Regression('ElasticNet_Regression',k,n)\n",
    "all_results.append(result)\n",
    "plt.scatter(y_test,result['Prediction'])\n",
    "plt.xlabel('Y Test')\n",
    "plt.ylabel('Predicted Y')\n",
    "plt.title('ElasticNet_Regression-Printability')"
   ]
  },
  {
   "cell_type": "code",
   "execution_count": 14,
   "metadata": {},
   "outputs": [
    {
     "data": {
      "text/html": [
       "<div>\n",
       "<style scoped>\n",
       "    .dataframe tbody tr th:only-of-type {\n",
       "        vertical-align: middle;\n",
       "    }\n",
       "\n",
       "    .dataframe tbody tr th {\n",
       "        vertical-align: top;\n",
       "    }\n",
       "\n",
       "    .dataframe thead th {\n",
       "        text-align: right;\n",
       "    }\n",
       "</style>\n",
       "<table border=\"1\" class=\"dataframe\">\n",
       "  <thead>\n",
       "    <tr style=\"text-align: right;\">\n",
       "      <th></th>\n",
       "      <th>Regressor</th>\n",
       "      <th>Mean_Absolute_Error</th>\n",
       "      <th>Mean_Squared_Error</th>\n",
       "      <th>Root_Mean_Squared_Error</th>\n",
       "      <th>Root_Mean_Squared_Log_Error</th>\n",
       "      <th>R_Squared</th>\n",
       "      <th>Adjusted_R_Squared</th>\n",
       "      <th>Prediction</th>\n",
       "    </tr>\n",
       "  </thead>\n",
       "  <tbody>\n",
       "    <tr>\n",
       "      <th>0</th>\n",
       "      <td>LinearRegression</td>\n",
       "      <td>0.006988</td>\n",
       "      <td>0.000074</td>\n",
       "      <td>0.008605</td>\n",
       "      <td>-4.755428</td>\n",
       "      <td>0.996868</td>\n",
       "      <td>1.001686</td>\n",
       "      <td>[0.6984464236101241, 0.22003166961912649, 0.52...</td>\n",
       "    </tr>\n",
       "    <tr>\n",
       "      <th>1</th>\n",
       "      <td>RandomForestRegressor</td>\n",
       "      <td>0.040174</td>\n",
       "      <td>0.002704</td>\n",
       "      <td>0.052004</td>\n",
       "      <td>-2.956443</td>\n",
       "      <td>0.885615</td>\n",
       "      <td>1.061592</td>\n",
       "      <td>[0.7117829457364344, 0.31488372093023254, 0.57...</td>\n",
       "    </tr>\n",
       "    <tr>\n",
       "      <th>2</th>\n",
       "      <td>KNeighborsRegressor</td>\n",
       "      <td>0.158269</td>\n",
       "      <td>0.045323</td>\n",
       "      <td>0.212892</td>\n",
       "      <td>-1.546969</td>\n",
       "      <td>-0.917006</td>\n",
       "      <td>2.032234</td>\n",
       "      <td>[0.7260981912144703, 0.607235142118863, 0.6227...</td>\n",
       "    </tr>\n",
       "    <tr>\n",
       "      <th>3</th>\n",
       "      <td>SVMRegressor</td>\n",
       "      <td>0.157017</td>\n",
       "      <td>0.031259</td>\n",
       "      <td>0.176801</td>\n",
       "      <td>-1.732732</td>\n",
       "      <td>-0.322123</td>\n",
       "      <td>1.711912</td>\n",
       "      <td>[0.5263087978509376, 0.5382777462780506, 0.542...</td>\n",
       "    </tr>\n",
       "    <tr>\n",
       "      <th>4</th>\n",
       "      <td>Ridge_Regression</td>\n",
       "      <td>0.055466</td>\n",
       "      <td>0.006476</td>\n",
       "      <td>0.080476</td>\n",
       "      <td>-2.519794</td>\n",
       "      <td>0.726071</td>\n",
       "      <td>1.147500</td>\n",
       "      <td>[0.6860855963043387, 0.25849880855338797, 0.57...</td>\n",
       "    </tr>\n",
       "    <tr>\n",
       "      <th>5</th>\n",
       "      <td>Lasso_Regression</td>\n",
       "      <td>0.128755</td>\n",
       "      <td>0.023671</td>\n",
       "      <td>0.153854</td>\n",
       "      <td>-1.871751</td>\n",
       "      <td>-0.001201</td>\n",
       "      <td>1.539108</td>\n",
       "      <td>[0.5547480620155039, 0.5547480620155039, 0.554...</td>\n",
       "    </tr>\n",
       "    <tr>\n",
       "      <th>6</th>\n",
       "      <td>ElasticNet_Regression</td>\n",
       "      <td>0.128755</td>\n",
       "      <td>0.023671</td>\n",
       "      <td>0.153854</td>\n",
       "      <td>-1.871751</td>\n",
       "      <td>-0.001201</td>\n",
       "      <td>1.539108</td>\n",
       "      <td>[0.5547480620155039, 0.5547480620155039, 0.554...</td>\n",
       "    </tr>\n",
       "  </tbody>\n",
       "</table>\n",
       "</div>"
      ],
      "text/plain": [
       "               Regressor  Mean_Absolute_Error  Mean_Squared_Error  \\\n",
       "0       LinearRegression             0.006988            0.000074   \n",
       "1  RandomForestRegressor             0.040174            0.002704   \n",
       "2    KNeighborsRegressor             0.158269            0.045323   \n",
       "3           SVMRegressor             0.157017            0.031259   \n",
       "4       Ridge_Regression             0.055466            0.006476   \n",
       "5       Lasso_Regression             0.128755            0.023671   \n",
       "6  ElasticNet_Regression             0.128755            0.023671   \n",
       "\n",
       "   Root_Mean_Squared_Error  Root_Mean_Squared_Log_Error  R_Squared  \\\n",
       "0                 0.008605                    -4.755428   0.996868   \n",
       "1                 0.052004                    -2.956443   0.885615   \n",
       "2                 0.212892                    -1.546969  -0.917006   \n",
       "3                 0.176801                    -1.732732  -0.322123   \n",
       "4                 0.080476                    -2.519794   0.726071   \n",
       "5                 0.153854                    -1.871751  -0.001201   \n",
       "6                 0.153854                    -1.871751  -0.001201   \n",
       "\n",
       "   Adjusted_R_Squared                                         Prediction  \n",
       "0            1.001686  [0.6984464236101241, 0.22003166961912649, 0.52...  \n",
       "1            1.061592  [0.7117829457364344, 0.31488372093023254, 0.57...  \n",
       "2            2.032234  [0.7260981912144703, 0.607235142118863, 0.6227...  \n",
       "3            1.711912  [0.5263087978509376, 0.5382777462780506, 0.542...  \n",
       "4            1.147500  [0.6860855963043387, 0.25849880855338797, 0.57...  \n",
       "5            1.539108  [0.5547480620155039, 0.5547480620155039, 0.554...  \n",
       "6            1.539108  [0.5547480620155039, 0.5547480620155039, 0.554...  "
      ]
     },
     "execution_count": 14,
     "metadata": {},
     "output_type": "execute_result"
    }
   ],
   "source": [
    "regression_dataframe_printability = pd.DataFrame(all_results)\n",
    "regression_dataframe_printability"
   ]
  },
  {
   "cell_type": "code",
   "execution_count": 15,
   "metadata": {},
   "outputs": [],
   "source": [
    "Score=0.0\n",
    "Coef=0.0 \n",
    "Intercept=0.0\n",
    "all_results = []\n",
    "\n",
    "X_train, X_test, y_train, y_test = train_test_split(data, Z, test_size=0.30, random_state = 150)"
   ]
  },
  {
   "cell_type": "code",
   "execution_count": 16,
   "metadata": {},
   "outputs": [],
   "source": [
    "#Number of independent Variable\n",
    "k=len(columns)\n",
    "\n",
    "#Number of observations\n",
    "n=len(X_test)\n",
    "\n",
    "#k- Number of independent Variable\n",
    "#n- Number of samples"
   ]
  },
  {
   "cell_type": "code",
   "execution_count": 17,
   "metadata": {},
   "outputs": [
    {
     "data": {
      "text/plain": [
       "Text(0.5, 1.0, 'LinearRegression-CellViability')"
      ]
     },
     "execution_count": 17,
     "metadata": {},
     "output_type": "execute_result"
    },
    {
     "data": {
      "image/png": "[encoded data removed]",
      "text/plain": [
       "<Figure size 432x288 with 1 Axes>"
      ]
     },
     "metadata": {
      "needs_background": "light"
     },
     "output_type": "display_data"
    }
   ],
   "source": [
    "result = LRegression('LinearRegression',k,n)\n",
    "all_results.append(result)\n",
    "plt.scatter(y_test,result['Prediction'])\n",
    "plt.xlabel('Y Test')\n",
    "plt.ylabel('Predicted Y')\n",
    "plt.title('LinearRegression-CellViability')"
   ]
  },
  {
   "cell_type": "code",
   "execution_count": 18,
   "metadata": {},
   "outputs": [
    {
     "data": {
      "text/plain": [
       "Text(0.5, 1.0, 'RandomForestRegressor-CellViability')"
      ]
     },
     "execution_count": 18,
     "metadata": {},
     "output_type": "execute_result"
    },
    {
     "data": {
      "image/png": "[encoded data removed]",
      "text/plain": [
       "<Figure size 432x288 with 1 Axes>"
      ]
     },
     "metadata": {
      "needs_background": "light"
     },
     "output_type": "display_data"
    }
   ],
   "source": [
    "result = RandomFRegression('RandomForestRegressor',k,n)\n",
    "all_results.append(result)\n",
    "plt.scatter(y_test,result['Prediction'])\n",
    "plt.xlabel('Y Test')\n",
    "plt.ylabel('Predicted Y')\n",
    "plt.title('RandomForestRegressor-CellViability')"
   ]
  },
  {
   "cell_type": "code",
   "execution_count": 19,
   "metadata": {},
   "outputs": [
    {
     "data": {
      "text/plain": [
       "Text(0.5, 1.0, 'KNeighborsRegressor-CellViability')"
      ]
     },
     "execution_count": 19,
     "metadata": {},
     "output_type": "execute_result"
    },
    {
     "data": {
      "image/png": "[encoded data removed]",
      "text/plain": [
       "<Figure size 432x288 with 1 Axes>"
      ]
     },
     "metadata": {
      "needs_background": "light"
     },
     "output_type": "display_data"
    }
   ],
   "source": [
    "result = KNRegressor('KNeighborsRegressor',k,n)\n",
    "all_results.append(result)\n",
    "plt.scatter(y_test,result['Prediction'])\n",
    "plt.xlabel('Y Test')\n",
    "plt.ylabel('Predicted Y')\n",
    "plt.title('KNeighborsRegressor-CellViability')"
   ]
  },
  {
   "cell_type": "code",
   "execution_count": 20,
   "metadata": {},
   "outputs": [
    {
     "data": {
      "text/plain": [
       "Text(0.5, 1.0, 'SVMRegressor-CellViability')"
      ]
     },
     "execution_count": 20,
     "metadata": {},
     "output_type": "execute_result"
    },
    {
     "data": {
      "image/png": "[encoded data removed]",
      "text/plain": [
       "<Figure size 432x288 with 1 Axes>"
      ]
     },
     "metadata": {
      "needs_background": "light"
     },
     "output_type": "display_data"
    }
   ],
   "source": [
    "result = SRegressor('SVMRegressor',k,n)\n",
    "all_results.append(result)\n",
    "plt.scatter(y_test,result['Prediction'])\n",
    "plt.xlabel('Y Test')\n",
    "plt.ylabel('Predicted Y')\n",
    "plt.title('SVMRegressor-CellViability')"
   ]
  },
  {
   "cell_type": "code",
   "execution_count": 21,
   "metadata": {},
   "outputs": [
    {
     "data": {
      "text/plain": [
       "Text(0.5, 1.0, 'Ridge_Regression-CellViability')"
      ]
     },
     "execution_count": 21,
     "metadata": {},
     "output_type": "execute_result"
    },
    {
     "data": {
      "image/png": "[encoded data removed]",
      "text/plain": [
       "<Figure size 432x288 with 1 Axes>"
      ]
     },
     "metadata": {
      "needs_background": "light"
     },
     "output_type": "display_data"
    }
   ],
   "source": [
    "result = Ridge_Regression('Ridge_Regression',k,n)\n",
    "all_results.append(result)\n",
    "plt.scatter(y_test,result['Prediction'])\n",
    "plt.xlabel('Y Test')\n",
    "plt.ylabel('Predicted Y')\n",
    "plt.title('Ridge_Regression-CellViability')"
   ]
  },
  {
   "cell_type": "code",
   "execution_count": 22,
   "metadata": {},
   "outputs": [
    {
     "data": {
      "text/plain": [
       "Text(0.5, 1.0, 'Lasso_Regression-CellViability')"
      ]
     },
     "execution_count": 22,
     "metadata": {},
     "output_type": "execute_result"
    },
    {
     "data": {
      "image/png": "[encoded data removed]",
      "text/plain": [
       "<Figure size 432x288 with 1 Axes>"
      ]
     },
     "metadata": {
      "needs_background": "light"
     },
     "output_type": "display_data"
    }
   ],
   "source": [
    "result = Lasso_Regression('Lasso_Regression',k,n)\n",
    "all_results.append(result)\n",
    "plt.scatter(y_test,result['Prediction'])\n",
    "plt.xlabel('Y Test')\n",
    "plt.ylabel('Predicted Y')\n",
    "plt.title('Lasso_Regression-CellViability')"
   ]
  },
  {
   "cell_type": "code",
   "execution_count": 23,
   "metadata": {},
   "outputs": [
    {
     "data": {
      "text/plain": [
       "Text(0.5, 1.0, 'ElasticNet_Regression-CellViability')"
      ]
     },
     "execution_count": 23,
     "metadata": {},
     "output_type": "execute_result"
    },
    {
     "data": {
      "image/png": "[encoded data removed]",
      "text/plain": [
       "<Figure size 432x288 with 1 Axes>"
      ]
     },
     "metadata": {
      "needs_background": "light"
     },
     "output_type": "display_data"
    }
   ],
   "source": [
    "result = ElasticNet_Regression('ElasticNet_Regression',k,n)\n",
    "all_results.append(result)\n",
    "plt.scatter(y_test,result['Prediction'])\n",
    "plt.xlabel('Y Test')\n",
    "plt.ylabel('Predicted Y')\n",
    "plt.title('ElasticNet_Regression-CellViability')"
   ]
  },
  {
   "cell_type": "code",
   "execution_count": 24,
   "metadata": {},
   "outputs": [
    {
     "data": {
      "text/html": [
       "<div>\n",
       "<style scoped>\n",
       "    .dataframe tbody tr th:only-of-type {\n",
       "        vertical-align: middle;\n",
       "    }\n",
       "\n",
       "    .dataframe tbody tr th {\n",
       "        vertical-align: top;\n",
       "    }\n",
       "\n",
       "    .dataframe thead th {\n",
       "        text-align: right;\n",
       "    }\n",
       "</style>\n",
       "<table border=\"1\" class=\"dataframe\">\n",
       "  <thead>\n",
       "    <tr style=\"text-align: right;\">\n",
       "      <th></th>\n",
       "      <th>Regressor</th>\n",
       "      <th>Mean_Absolute_Error</th>\n",
       "      <th>Mean_Squared_Error</th>\n",
       "      <th>Root_Mean_Squared_Error</th>\n",
       "      <th>Root_Mean_Squared_Log_Error</th>\n",
       "      <th>R_Squared</th>\n",
       "      <th>Adjusted_R_Squared</th>\n",
       "      <th>Prediction</th>\n",
       "    </tr>\n",
       "  </thead>\n",
       "  <tbody>\n",
       "    <tr>\n",
       "      <th>0</th>\n",
       "      <td>LinearRegression</td>\n",
       "      <td>0.042291</td>\n",
       "      <td>0.003934</td>\n",
       "      <td>0.062719</td>\n",
       "      <td>-2.769086</td>\n",
       "      <td>0.922598</td>\n",
       "      <td>1.041678</td>\n",
       "      <td>[0.8925801478835019, 0.30560711381021466, 0.46...</td>\n",
       "    </tr>\n",
       "    <tr>\n",
       "      <th>1</th>\n",
       "      <td>RandomForestRegressor</td>\n",
       "      <td>0.032794</td>\n",
       "      <td>0.001646</td>\n",
       "      <td>0.040573</td>\n",
       "      <td>-3.204645</td>\n",
       "      <td>0.967609</td>\n",
       "      <td>1.017442</td>\n",
       "      <td>[0.8799999999999994, 0.3341176470588231, 0.427...</td>\n",
       "    </tr>\n",
       "    <tr>\n",
       "      <th>2</th>\n",
       "      <td>KNeighborsRegressor</td>\n",
       "      <td>0.090686</td>\n",
       "      <td>0.011774</td>\n",
       "      <td>0.108510</td>\n",
       "      <td>-2.220917</td>\n",
       "      <td>0.768322</td>\n",
       "      <td>1.124750</td>\n",
       "      <td>[0.8431372549019605, 0.4313725490196075, 0.509...</td>\n",
       "    </tr>\n",
       "    <tr>\n",
       "      <th>3</th>\n",
       "      <td>SVMRegressor</td>\n",
       "      <td>0.128485</td>\n",
       "      <td>0.020341</td>\n",
       "      <td>0.142622</td>\n",
       "      <td>-1.947556</td>\n",
       "      <td>0.599756</td>\n",
       "      <td>1.215516</td>\n",
       "      <td>[0.7680310878604858, 0.48085100908433553, 0.57...</td>\n",
       "    </tr>\n",
       "    <tr>\n",
       "      <th>4</th>\n",
       "      <td>Ridge_Regression</td>\n",
       "      <td>0.048873</td>\n",
       "      <td>0.006473</td>\n",
       "      <td>0.080457</td>\n",
       "      <td>-2.520038</td>\n",
       "      <td>0.872628</td>\n",
       "      <td>1.068585</td>\n",
       "      <td>[0.8791739134732892, 0.26332560216769896, 0.49...</td>\n",
       "    </tr>\n",
       "    <tr>\n",
       "      <th>5</th>\n",
       "      <td>Lasso_Regression</td>\n",
       "      <td>0.205882</td>\n",
       "      <td>0.051308</td>\n",
       "      <td>0.226514</td>\n",
       "      <td>-1.484950</td>\n",
       "      <td>-0.009574</td>\n",
       "      <td>1.543617</td>\n",
       "      <td>[0.5808823529411762, 0.5808823529411762, 0.580...</td>\n",
       "    </tr>\n",
       "    <tr>\n",
       "      <th>6</th>\n",
       "      <td>ElasticNet_Regression</td>\n",
       "      <td>0.205882</td>\n",
       "      <td>0.051308</td>\n",
       "      <td>0.226514</td>\n",
       "      <td>-1.484950</td>\n",
       "      <td>-0.009574</td>\n",
       "      <td>1.543617</td>\n",
       "      <td>[0.5808823529411762, 0.5808823529411762, 0.580...</td>\n",
       "    </tr>\n",
       "  </tbody>\n",
       "</table>\n",
       "</div>"
      ],
      "text/plain": [
       "               Regressor  Mean_Absolute_Error  Mean_Squared_Error  \\\n",
       "0       LinearRegression             0.042291            0.003934   \n",
       "1  RandomForestRegressor             0.032794            0.001646   \n",
       "2    KNeighborsRegressor             0.090686            0.011774   \n",
       "3           SVMRegressor             0.128485            0.020341   \n",
       "4       Ridge_Regression             0.048873            0.006473   \n",
       "5       Lasso_Regression             0.205882            0.051308   \n",
       "6  ElasticNet_Regression             0.205882            0.051308   \n",
       "\n",
       "   Root_Mean_Squared_Error  Root_Mean_Squared_Log_Error  R_Squared  \\\n",
       "0                 0.062719                    -2.769086   0.922598   \n",
       "1                 0.040573                    -3.204645   0.967609   \n",
       "2                 0.108510                    -2.220917   0.768322   \n",
       "3                 0.142622                    -1.947556   0.599756   \n",
       "4                 0.080457                    -2.520038   0.872628   \n",
       "5                 0.226514                    -1.484950  -0.009574   \n",
       "6                 0.226514                    -1.484950  -0.009574   \n",
       "\n",
       "   Adjusted_R_Squared                                         Prediction  \n",
       "0            1.041678  [0.8925801478835019, 0.30560711381021466, 0.46...  \n",
       "1            1.017442  [0.8799999999999994, 0.3341176470588231, 0.427...  \n",
       "2            1.124750  [0.8431372549019605, 0.4313725490196075, 0.509...  \n",
       "3            1.215516  [0.7680310878604858, 0.48085100908433553, 0.57...  \n",
       "4            1.068585  [0.8791739134732892, 0.26332560216769896, 0.49...  \n",
       "5            1.543617  [0.5808823529411762, 0.5808823529411762, 0.580...  \n",
       "6            1.543617  [0.5808823529411762, 0.5808823529411762, 0.580...  "
      ]
     },
     "execution_count": 24,
     "metadata": {},
     "output_type": "execute_result"
    }
   ],
   "source": [
    "regression_dataframe_cellViability = pd.DataFrame(all_results)\n",
    "regression_dataframe_cellViability"
   ]
  },
  {
   "cell_type": "code",
   "execution_count": null,
   "metadata": {},
   "outputs": [],
   "source": []
  }
 ],
 "metadata": {
  "kernelspec": {
   "display_name": "Python 3",
   "language": "python",
   "name": "python3"
  },
  "language_info": {
   "codemirror_mode": {
    "name": "ipython",
    "version": 3
   },
   "file_extension": ".py",
   "mimetype": "text/x-python",
   "name": "python",
   "nbconvert_exporter": "python",
   "pygments_lexer": "ipython3",
   "version": "3.8.5"
  }
 },
 "nbformat": 4,
 "nbformat_minor": 4
}
